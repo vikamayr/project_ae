{
 "cells": [
  {
   "cell_type": "code",
   "execution_count": 8,
   "id": "43de22ee",
   "metadata": {},
   "outputs": [],
   "source": [
    "import fiftyone as fo\n",
    "import os"
   ]
  },
  {
   "cell_type": "code",
   "execution_count": 9,
   "id": "aa1d281f",
   "metadata": {},
   "outputs": [
    {
     "name": "stdout",
     "output_type": "stream",
     "text": [
      "[]\n"
     ]
    }
   ],
   "source": [
    "print(fo.list_datasets())\n",
    "# NOTE! labels FILE MUST BE IN MAIN FOLDER TO THIS TO WORK"
   ]
  },
  {
   "cell_type": "code",
   "execution_count": 15,
   "id": "3032f6e1",
   "metadata": {},
   "outputs": [
    {
     "name": "stdout",
     "output_type": "stream",
     "text": [
      " Volume in drive C is Windows\n",
      " Volume Serial Number is D8AA-C9FC\n",
      "\n",
      " Directory of C:\\Users\\ville\\Projects\\adversarial_examples\\coco_foolbox\\datasets\\coco_original\n",
      "\n",
      "22.07.2021  12.37    <DIR>          .\n",
      "22.07.2021  12.37    <DIR>          ..\n",
      "14.07.2021  12.48    <DIR>          annotations\n",
      "14.07.2021  12.47    <DIR>          data\n",
      "22.06.2021  12.24        19ÿ987ÿ840 labels.json\n",
      "14.07.2021  12.49    <DIR>          tfrecords\n",
      "               1 File(s)     19ÿ987ÿ840 bytes\n",
      "               5 Dir(s)  21ÿ406ÿ621ÿ696 bytes free\n"
     ]
    }
   ],
   "source": [
    "#original\n",
    "name=\"coco-original\"\n",
    "dataset_dir=\"../datasets/coco_original/\"\n",
    "\n",
    "# check that main folder contains labels file\n",
    "\n",
    "%ls  \"../datasets/coco_original/\""
   ]
  },
  {
   "cell_type": "code",
   "execution_count": 10,
   "id": "542f473a",
   "metadata": {},
   "outputs": [
    {
     "name": "stdout",
     "output_type": "stream",
     "text": [
      " Volume in drive C is Windows\n",
      " Volume Serial Number is D8AA-C9FC\n",
      "\n",
      " Directory of C:\\Users\\ville\\Projects\\adversarial_examples\\coco_foolbox\\datasets\\mobilenet_fgsm0.02\n",
      "\n",
      "21.10.2021  14.09    <DIR>          .\n",
      "21.10.2021  14.09    <DIR>          ..\n",
      "19.10.2021  22.02    <DIR>          annotations\n",
      "19.10.2021  22.03    <DIR>          data\n",
      "09.07.2021  11.31         7ÿ043ÿ546 labels.json\n",
      "19.10.2021  22.07    <DIR>          tfrecords\n",
      "               1 File(s)      7ÿ043ÿ546 bytes\n",
      "               5 Dir(s)  21ÿ419ÿ536ÿ384 bytes free\n"
     ]
    }
   ],
   "source": [
    "#adversarial\n",
    "name=\"mobilenet_fgsm0.02\"\n",
    "dataset_dir=\"../datasets/mobilenet_fgsm0.02/\"\n",
    "\n",
    "# check that main folder contains labels file\n",
    "\n",
    "%ls  \"../datasets/mobilenet_fgsm0.02/\""
   ]
  },
  {
   "cell_type": "code",
   "execution_count": 21,
   "id": "0b3b5f8b",
   "metadata": {},
   "outputs": [
    {
     "name": "stdout",
     "output_type": "stream",
     "text": [
      " Volume in drive C is Windows\n",
      " Volume Serial Number is D8AA-C9FC\n",
      "\n",
      " Directory of C:\\Users\\ville\\Projects\\adversarial_examples\\coco_foolbox\\datasets\\coco_224\n",
      "\n",
      "21.10.2021  14.30    <DIR>          .\n",
      "21.10.2021  14.30    <DIR>          ..\n",
      "14.07.2021  12.50    <DIR>          annotations\n",
      "14.07.2021  12.50    <DIR>          data\n",
      "09.07.2021  11.31         7ÿ043ÿ546 labels.json\n",
      "14.07.2021  12.50    <DIR>          tfrecords\n",
      "               1 File(s)      7ÿ043ÿ546 bytes\n",
      "               5 Dir(s)  21ÿ399ÿ007ÿ232 bytes free\n"
     ]
    }
   ],
   "source": [
    "#adversarial\n",
    "name=\"coco_224\"\n",
    "dataset_dir=\"../datasets/coco_224/\"\n",
    "\n",
    "# check that main folder contains labels file\n",
    "\n",
    "%ls  \"../datasets/coco_224/\""
   ]
  },
  {
   "cell_type": "code",
   "execution_count": 22,
   "id": "d4e9d4df",
   "metadata": {},
   "outputs": [],
   "source": [
    "dataset_type = fo.types.COCODetectionDataset"
   ]
  },
  {
   "cell_type": "code",
   "execution_count": 23,
   "id": "27abc0dd",
   "metadata": {},
   "outputs": [
    {
     "name": "stdout",
     "output_type": "stream",
     "text": [
      " 100% |███████████████| 5000/5000 [48.4s elapsed, 0s remaining, 111.2 samples/s]      \n"
     ]
    }
   ],
   "source": [
    "dataset = fo.Dataset.from_dir(dataset_dir, dataset_type, name=name)"
   ]
  },
  {
   "cell_type": "code",
   "execution_count": 24,
   "id": "23f792f6",
   "metadata": {},
   "outputs": [
    {
     "name": "stdout",
     "output_type": "stream",
     "text": [
      "Dataset:     coco_224\n",
      "Media type:  image\n",
      "Num samples: 5000\n",
      "Tags:        []\n",
      "Sample fields:\n",
      "    id:           fiftyone.core.fields.ObjectIdField\n",
      "    filepath:     fiftyone.core.fields.StringField\n",
      "    tags:         fiftyone.core.fields.ListField(fiftyone.core.fields.StringField)\n",
      "    metadata:     fiftyone.core.fields.EmbeddedDocumentField(fiftyone.core.metadata.Metadata)\n",
      "    ground_truth: fiftyone.core.fields.EmbeddedDocumentField(fiftyone.core.labels.Detections)\n",
      "View stages:\n",
      "    ---\n"
     ]
    }
   ],
   "source": [
    "print(dataset.view())"
   ]
  },
  {
   "cell_type": "code",
   "execution_count": 25,
   "id": "5e89f88a",
   "metadata": {},
   "outputs": [
    {
     "data": {
      "text/html": [
       "\n",
       "        <iframe\n",
       "            width=\"100%\"\n",
       "            height=\"800\"\n",
       "            src=\"http://localhost:5151/?notebook=true&handleId=9337cd56-da1b-4e0d-925a-91c5c20fc966\"\n",
       "            frameborder=\"0\"\n",
       "            allowfullscreen\n",
       "        ></iframe>\n",
       "        "
      ],
      "text/plain": [
       "<IPython.lib.display.IFrame at 0x2211edcadc0>"
      ]
     },
     "metadata": {},
     "output_type": "display_data"
    },
    {
     "data": {
      "text/html": [
       "\n",
       "        <iframe\n",
       "            width=\"100%\"\n",
       "            height=\"800\"\n",
       "            src=\"http://localhost:5151/?notebook=true&handleId=9337cd56-da1b-4e0d-925a-91c5c20fc966\"\n",
       "            frameborder=\"0\"\n",
       "            allowfullscreen\n",
       "        ></iframe>\n",
       "        "
      ],
      "text/plain": [
       "<IPython.lib.display.IFrame at 0x2211edcadc0>"
      ]
     },
     "metadata": {},
     "output_type": "display_data"
    }
   ],
   "source": [
    "session = fo.launch_app()"
   ]
  },
  {
   "cell_type": "code",
   "execution_count": null,
   "id": "1bd5ac0c",
   "metadata": {},
   "outputs": [],
   "source": []
  }
 ],
 "metadata": {
  "kernelspec": {
   "display_name": "Python 3",
   "language": "python",
   "name": "python3"
  },
  "language_info": {
   "codemirror_mode": {
    "name": "ipython",
    "version": 3
   },
   "file_extension": ".py",
   "mimetype": "text/x-python",
   "name": "python",
   "nbconvert_exporter": "python",
   "pygments_lexer": "ipython3",
   "version": "3.8.5"
  }
 },
 "nbformat": 4,
 "nbformat_minor": 5
}
