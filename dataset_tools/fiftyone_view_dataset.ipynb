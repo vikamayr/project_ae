{
 "cells": [
  {
   "cell_type": "code",
   "execution_count": 1,
   "id": "dc1f537f",
   "metadata": {},
   "outputs": [],
   "source": [
    "import fiftyone as fo\n",
    "import os"
   ]
  },
  {
   "cell_type": "code",
   "execution_count": 4,
   "id": "599b3f26",
   "metadata": {},
   "outputs": [
    {
     "name": "stdout",
     "output_type": "stream",
     "text": [
      "[]\n"
     ]
    }
   ],
   "source": [
    "print(fo.list_datasets())\n",
    "# NOTE! labels FILE MUST BE IN MAIN FOLDER TO THIS TO WORK"
   ]
  },
  {
   "cell_type": "code",
   "execution_count": 3,
   "id": "4bf5c885",
   "metadata": {},
   "outputs": [
    {
     "name": "stdout",
     "output_type": "stream",
     "text": [
      " Volume in drive C is Windows\n",
      " Volume Serial Number is D8AA-C9FC\n",
      "\n",
      " Directory of C:\\Users\\ville\\Projects\\adversarial_examples\\coco_foolbox\\datasets\\coco_original\n",
      "\n",
      "22.07.2021  11.37    <DIR>          .\n",
      "22.07.2021  11.37    <DIR>          ..\n",
      "14.07.2021  11.48    <DIR>          annotations\n",
      "14.07.2021  11.47    <DIR>          data\n",
      "22.06.2021  11.24        19ÿ987ÿ840 labels.json\n",
      "14.07.2021  11.49    <DIR>          tfrecords\n",
      "               1 File(s)     19ÿ987ÿ840 bytes\n",
      "               5 Dir(s)  15ÿ651ÿ266ÿ560 bytes free\n"
     ]
    }
   ],
   "source": [
    "#original\n",
    "name=\"coco-original\"\n",
    "dataset_dir=\"../datasets/coco_original/\"\n",
    "\n",
    "# check that main folder contains labels file\n",
    "\n",
    "%ls  \"../datasets/coco_original/\""
   ]
  },
  {
   "cell_type": "code",
   "execution_count": 7,
   "id": "b0f6adb5",
   "metadata": {},
   "outputs": [
    {
     "name": "stdout",
     "output_type": "stream",
     "text": [
      " Volume in drive C is Windows\n",
      " Volume Serial Number is D8AA-C9FC\n",
      "\n",
      " Directory of C:\\Users\\ville\\Projects\\adversarial_examples\\coco_foolbox\\datasets\\mobilenet_fgsm0.02\n",
      "\n",
      "21.10.2021  14.09    <DIR>          .\n",
      "21.10.2021  14.09    <DIR>          ..\n",
      "19.10.2021  22.02    <DIR>          annotations\n",
      "19.10.2021  22.03    <DIR>          data\n",
      "09.07.2021  11.31         7ÿ043ÿ546 labels.json\n",
      "19.10.2021  22.07    <DIR>          tfrecords\n",
      "               1 File(s)      7ÿ043ÿ546 bytes\n",
      "               5 Dir(s)  22ÿ296ÿ608ÿ768 bytes free\n"
     ]
    }
   ],
   "source": [
    "#adversarial\n",
    "name=\"mobilenet_fgsm0.02\"\n",
    "dataset_dir=\"../datasets/mobilenet_fgsm0.02/\"\n",
    "\n",
    "# check that main folder contains labels file\n",
    "\n",
    "%ls  \"../datasets/mobilenet_fgsm0.02/\""
   ]
  },
  {
   "cell_type": "code",
   "execution_count": 3,
   "id": "256448ba",
   "metadata": {},
   "outputs": [
    {
     "name": "stdout",
     "output_type": "stream",
     "text": [
      " Volume in drive C is Windows\n",
      " Volume Serial Number is D8AA-C9FC\n",
      "\n",
      " Directory of C:\\Users\\ville\\Projects\\adversarial_examples\\coco_foolbox\\datasets\\coco_224\n",
      "\n",
      "21.10.2021  14.30    <DIR>          .\n",
      "21.10.2021  14.30    <DIR>          ..\n",
      "14.07.2021  12.50    <DIR>          annotations\n",
      "14.07.2021  12.50    <DIR>          data\n",
      "09.07.2021  11.31         7ÿ043ÿ546 labels.json\n",
      "14.07.2021  12.50    <DIR>          tfrecords\n",
      "               1 File(s)      7ÿ043ÿ546 bytes\n",
      "               5 Dir(s)  22ÿ290ÿ759ÿ680 bytes free\n"
     ]
    }
   ],
   "source": [
    "#adversarial\n",
    "name=\"coco_224\"\n",
    "dataset_dir=\"../datasets/coco_224/\"\n",
    "\n",
    "# check that main folder contains labels file\n",
    "\n",
    "%ls  \"../datasets/coco_224/\""
   ]
  },
  {
   "cell_type": "code",
   "execution_count": 5,
   "id": "0de97f6a",
   "metadata": {},
   "outputs": [],
   "source": [
    "dataset_type = fo.types.COCODetectionDataset"
   ]
  },
  {
   "cell_type": "code",
   "execution_count": 6,
   "id": "3eb74fde",
   "metadata": {},
   "outputs": [
    {
     "name": "stdout",
     "output_type": "stream",
     "text": [
      "   0% ||--------------|    1/5000 [55.0ms elapsed, 4.6m remaining, 18.2 samples/s] "
     ]
    },
    {
     "name": "stderr",
     "output_type": "stream",
     "text": [
      "C:\\Users\\ville\\anaconda3\\envs\\tensorflow\\lib\\site-packages\\fiftyone\\utils\\coco.py:571: UserWarning: Failed to convert segmentation to mask; skipping mask\n",
      "  warnings.warn(\n"
     ]
    },
    {
     "name": "stdout",
     "output_type": "stream",
     "text": [
      " 100% |███████████████| 5000/5000 [50.1s elapsed, 0s remaining, 100.9 samples/s]      \n"
     ]
    }
   ],
   "source": [
    "dataset = fo.Dataset.from_dir(dataset_dir, dataset_type, name=name)"
   ]
  },
  {
   "cell_type": "code",
   "execution_count": 7,
   "id": "5695e4cb",
   "metadata": {},
   "outputs": [
    {
     "name": "stdout",
     "output_type": "stream",
     "text": [
      "Dataset:     coco-original\n",
      "Media type:  image\n",
      "Num samples: 5000\n",
      "Tags:        []\n",
      "Sample fields:\n",
      "    id:           fiftyone.core.fields.ObjectIdField\n",
      "    filepath:     fiftyone.core.fields.StringField\n",
      "    tags:         fiftyone.core.fields.ListField(fiftyone.core.fields.StringField)\n",
      "    metadata:     fiftyone.core.fields.EmbeddedDocumentField(fiftyone.core.metadata.Metadata)\n",
      "    ground_truth: fiftyone.core.fields.EmbeddedDocumentField(fiftyone.core.labels.Detections)\n",
      "View stages:\n",
      "    ---\n"
     ]
    }
   ],
   "source": [
    "print(dataset.view())"
   ]
  },
  {
   "cell_type": "code",
   "execution_count": 8,
   "id": "4af46872",
   "metadata": {},
   "outputs": [
    {
     "data": {
      "text/html": [
       "\n",
       "        <iframe\n",
       "            width=\"100%\"\n",
       "            height=\"800\"\n",
       "            src=\"http://localhost:5151/?notebook=true&handleId=4b1b7778-3ae2-45f0-8816-9540a3fcdbd8\"\n",
       "            frameborder=\"0\"\n",
       "            allowfullscreen\n",
       "        ></iframe>\n",
       "        "
      ],
      "text/plain": [
       "<IPython.lib.display.IFrame at 0x260510d58b0>"
      ]
     },
     "metadata": {},
     "output_type": "display_data"
    },
    {
     "data": {
      "text/html": [
       "\n",
       "        <iframe\n",
       "            width=\"100%\"\n",
       "            height=\"800\"\n",
       "            src=\"http://localhost:5151/?notebook=true&handleId=4b1b7778-3ae2-45f0-8816-9540a3fcdbd8\"\n",
       "            frameborder=\"0\"\n",
       "            allowfullscreen\n",
       "        ></iframe>\n",
       "        "
      ],
      "text/plain": [
       "<IPython.lib.display.IFrame at 0x260510d58b0>"
      ]
     },
     "metadata": {},
     "output_type": "display_data"
    }
   ],
   "source": [
    "session = fo.launch_app()"
   ]
  },
  {
   "cell_type": "code",
   "execution_count": null,
   "id": "0db6b431",
   "metadata": {},
   "outputs": [],
   "source": []
  }
 ],
 "metadata": {
  "kernelspec": {
   "display_name": "Python 3",
   "language": "python",
   "name": "python3"
  },
  "language_info": {
   "codemirror_mode": {
    "name": "ipython",
    "version": 3
   },
   "file_extension": ".py",
   "mimetype": "text/x-python",
   "name": "python",
   "nbconvert_exporter": "python",
   "pygments_lexer": "ipython3",
   "version": "3.8.5"
  }
 },
 "nbformat": 4,
 "nbformat_minor": 5
}
