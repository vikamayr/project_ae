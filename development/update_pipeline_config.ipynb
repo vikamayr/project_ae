{
 "cells": [
  {
   "cell_type": "code",
   "execution_count": 17,
   "id": "d0784126",
   "metadata": {},
   "outputs": [],
   "source": [
    "from object_detection.utils import config_util"
   ]
  },
  {
   "cell_type": "code",
   "execution_count": 18,
   "id": "a2743f9c",
   "metadata": {},
   "outputs": [],
   "source": [
    "pipeline_config = r\"C:\\Users\\ville\\Projects\\adversarial_examples\\mallit\\ssd_mobilenet_v2_320x320_coco17_tpu-8\\pipeline.config\""
   ]
  },
  {
   "cell_type": "code",
   "execution_count": 19,
   "id": "de1dab95",
   "metadata": {},
   "outputs": [],
   "source": [
    "configs = config_util.get_configs_from_pipeline_file(pipeline_config)"
   ]
  },
  {
   "cell_type": "code",
   "execution_count": 20,
   "id": "94f5e7ca",
   "metadata": {},
   "outputs": [
    {
     "name": "stdout",
     "output_type": "stream",
     "text": [
      "{'model': ssd {\n",
      "  num_classes: 90\n",
      "  image_resizer {\n",
      "    fixed_shape_resizer {\n",
      "      height: 300\n",
      "      width: 300\n",
      "    }\n",
      "  }\n",
      "  feature_extractor {\n",
      "    type: \"ssd_mobilenet_v2_keras\"\n",
      "    depth_multiplier: 1.0\n",
      "    min_depth: 16\n",
      "    conv_hyperparams {\n",
      "      regularizer {\n",
      "        l2_regularizer {\n",
      "          weight: 4e-05\n",
      "        }\n",
      "      }\n",
      "      initializer {\n",
      "        truncated_normal_initializer {\n",
      "          mean: 0.0\n",
      "          stddev: 0.03\n",
      "        }\n",
      "      }\n",
      "      activation: RELU_6\n",
      "      batch_norm {\n",
      "        decay: 0.97\n",
      "        center: true\n",
      "        scale: true\n",
      "        epsilon: 0.001\n",
      "        train: true\n",
      "      }\n",
      "    }\n",
      "    override_base_feature_extractor_hyperparams: true\n",
      "  }\n",
      "  box_coder {\n",
      "    faster_rcnn_box_coder {\n",
      "      y_scale: 10.0\n",
      "      x_scale: 10.0\n",
      "      height_scale: 5.0\n",
      "      width_scale: 5.0\n",
      "    }\n",
      "  }\n",
      "  matcher {\n",
      "    argmax_matcher {\n",
      "      matched_threshold: 0.5\n",
      "      unmatched_threshold: 0.5\n",
      "      ignore_thresholds: false\n",
      "      negatives_lower_than_unmatched: true\n",
      "      force_match_for_each_row: true\n",
      "      use_matmul_gather: true\n",
      "    }\n",
      "  }\n",
      "  similarity_calculator {\n",
      "    iou_similarity {\n",
      "    }\n",
      "  }\n",
      "  box_predictor {\n",
      "    convolutional_box_predictor {\n",
      "      conv_hyperparams {\n",
      "        regularizer {\n",
      "          l2_regularizer {\n",
      "            weight: 4e-05\n",
      "          }\n",
      "        }\n",
      "        initializer {\n",
      "          random_normal_initializer {\n",
      "            mean: 0.0\n",
      "            stddev: 0.01\n",
      "          }\n",
      "        }\n",
      "        activation: RELU_6\n",
      "        batch_norm {\n",
      "          decay: 0.97\n",
      "          center: true\n",
      "          scale: true\n",
      "          epsilon: 0.001\n",
      "          train: true\n",
      "        }\n",
      "      }\n",
      "      min_depth: 0\n",
      "      max_depth: 0\n",
      "      num_layers_before_predictor: 0\n",
      "      use_dropout: false\n",
      "      dropout_keep_probability: 0.8\n",
      "      kernel_size: 1\n",
      "      box_code_size: 4\n",
      "      apply_sigmoid_to_scores: false\n",
      "      class_prediction_bias_init: -4.6\n",
      "    }\n",
      "  }\n",
      "  anchor_generator {\n",
      "    ssd_anchor_generator {\n",
      "      num_layers: 6\n",
      "      min_scale: 0.2\n",
      "      max_scale: 0.95\n",
      "      aspect_ratios: 1.0\n",
      "      aspect_ratios: 2.0\n",
      "      aspect_ratios: 0.5\n",
      "      aspect_ratios: 3.0\n",
      "      aspect_ratios: 0.3333\n",
      "    }\n",
      "  }\n",
      "  post_processing {\n",
      "    batch_non_max_suppression {\n",
      "      score_threshold: 1e-08\n",
      "      iou_threshold: 0.6\n",
      "      max_detections_per_class: 100\n",
      "      max_total_detections: 100\n",
      "      use_static_shapes: false\n",
      "    }\n",
      "    score_converter: SIGMOID\n",
      "  }\n",
      "  normalize_loss_by_num_matches: true\n",
      "  loss {\n",
      "    localization_loss {\n",
      "      weighted_smooth_l1 {\n",
      "        delta: 1.0\n",
      "      }\n",
      "    }\n",
      "    classification_loss {\n",
      "      weighted_sigmoid_focal {\n",
      "        gamma: 2.0\n",
      "        alpha: 0.75\n",
      "      }\n",
      "    }\n",
      "    classification_weight: 1.0\n",
      "    localization_weight: 1.0\n",
      "  }\n",
      "  encode_background_as_zeros: true\n",
      "  normalize_loc_loss_by_codesize: true\n",
      "  inplace_batchnorm_update: true\n",
      "  freeze_batchnorm: false\n",
      "}\n",
      ", 'train_config': batch_size: 512\n",
      "data_augmentation_options {\n",
      "  random_horizontal_flip {\n",
      "  }\n",
      "}\n",
      "data_augmentation_options {\n",
      "  ssd_random_crop {\n",
      "  }\n",
      "}\n",
      "sync_replicas: true\n",
      "optimizer {\n",
      "  momentum_optimizer {\n",
      "    learning_rate {\n",
      "      cosine_decay_learning_rate {\n",
      "        learning_rate_base: 0.8\n",
      "        total_steps: 50000\n",
      "        warmup_learning_rate: 0.13333\n",
      "        warmup_steps: 2000\n",
      "      }\n",
      "    }\n",
      "    momentum_optimizer_value: 0.9\n",
      "  }\n",
      "  use_moving_average: false\n",
      "}\n",
      "fine_tune_checkpoint: \"PATH_TO_BE_CONFIGURED\"\n",
      "num_steps: 50000\n",
      "startup_delay_steps: 0.0\n",
      "replicas_to_aggregate: 8\n",
      "max_number_of_boxes: 100\n",
      "unpad_groundtruth_tensors: false\n",
      "fine_tune_checkpoint_type: \"classification\"\n",
      "fine_tune_checkpoint_version: V2\n",
      ", 'train_input_config': label_map_path: \"PATH_TO_BE_CONFIGURED\"\n",
      "tf_record_input_reader {\n",
      "  input_path: \"PATH_TO_BE_CONFIGURED\"\n",
      "}\n",
      ", 'eval_config': metrics_set: \"coco_detection_metrics\"\n",
      "use_moving_averages: false\n",
      ", 'eval_input_configs': [label_map_path: \"C:\\\\Users\\\\ville\\\\Projects\\\\adversarial_examples\\\\mallit\\\\mscoco_label_map.pbtxt\"\n",
      "shuffle: false\n",
      "num_epochs: 1\n",
      "tf_record_input_reader {\n",
      "  input_path: \"C:\\\\Users\\\\ville\\\\Projects\\\\adversarial_examples\\\\datasets\\\\adv_data\\\\tfrecords\\\\coco_testdev.record*\"\n",
      "}\n",
      "], 'eval_input_config': label_map_path: \"C:\\\\Users\\\\ville\\\\Projects\\\\adversarial_examples\\\\mallit\\\\mscoco_label_map.pbtxt\"\n",
      "shuffle: false\n",
      "num_epochs: 1\n",
      "tf_record_input_reader {\n",
      "  input_path: \"C:\\\\Users\\\\ville\\\\Projects\\\\adversarial_examples\\\\datasets\\\\adv_data\\\\tfrecords\\\\coco_testdev.record*\"\n",
      "}\n",
      "}\n"
     ]
    }
   ],
   "source": [
    "print(configs)"
   ]
  },
  {
   "cell_type": "code",
   "execution_count": 24,
   "id": "71e68d7a",
   "metadata": {},
   "outputs": [
    {
     "data": {
      "text/plain": [
       "label_map_path: \"C:\\\\Users\\\\ville\\\\Projects\\\\adversarial_examples\\\\mallit\\\\mscoco_label_map.pbtxt\"\n",
       "shuffle: false\n",
       "num_epochs: 1\n",
       "tf_record_input_reader {\n",
       "  input_path: \"C:\\\\Users\\\\ville\\\\Projects\\\\adversarial_examples\\\\datasets\\\\adv_fgsm\\\\tfrecords\\\\coco_testdev.record*\"\n",
       "}"
      ]
     },
     "execution_count": 24,
     "metadata": {},
     "output_type": "execute_result"
    }
   ],
   "source": [
    "configs['eval_input_config']"
   ]
  },
  {
   "cell_type": "code",
   "execution_count": 22,
   "id": "deaaedf5",
   "metadata": {},
   "outputs": [
    {
     "name": "stderr",
     "output_type": "stream",
     "text": [
      "A subdirectory or file mallit/ssd_mobilenet_v2_320x320_coco17_tpu-8/backup already exists.\n"
     ]
    },
    {
     "name": "stdout",
     "output_type": "stream",
     "text": [
      "        1 file(s) copied.\n"
     ]
    }
   ],
   "source": [
    "#make backup from config file\n",
    "!mkdir \"mallit/ssd_mobilenet_v2_320x320_coco17_tpu-8/backup\"\n",
    "!copy \"mallit\\ssd_mobilenet_v2_320x320_coco17_tpu-8\\pipeline.config\" \"mallit/ssd_mobilenet_v2_320x320_coco17_tpu-8/backup/pipeline.config\""
   ]
  },
  {
   "cell_type": "code",
   "execution_count": 23,
   "id": "859b8577",
   "metadata": {},
   "outputs": [
    {
     "name": "stdout",
     "output_type": "stream",
     "text": [
      "INFO:tensorflow:Writing pipeline config file to mallit/ssd_mobilenet_v2_320x320_coco17_tpu-8/pipeline.config\n"
     ]
    }
   ],
   "source": [
    "def config_file(original_config):\n",
    "    configs = original_config.copy()\n",
    "    eval_input_config = configs['eval_input_config']\n",
    "    \n",
    "    path_to_label_map = r\"C:\\Users\\ville\\Projects\\adversarial_examples\\mallit\\mscoco_label_map.pbtxt\"\n",
    "    path_to_input_tfrecord = r\"C:\\Users\\ville\\Projects\\adversarial_examples\\datasets\\adv_fgsm\\tfrecords\\coco_testdev.record*\"\n",
    "    \n",
    "    eval_input_config.label_map_path = path_to_label_map\n",
    "    \n",
    "    # If you want to reduce the number of samples used in the eval phase, use sample_1_of_n_examples\n",
    "    # to change it. This parameter defines the subsampling factor. For example, by default COCO2017 eval has 5000\n",
    "    # images. If you set this parameter to 50, it will perform eval on only 100 images.\n",
    "    \n",
    "    #eval_input_config.sample_1_of_n_examples = 50 # subsampling factor for the dataset\n",
    "    eval_input_config.tf_record_input_reader.input_path[:] = [path_to_input_tfrecord] # path to the input tfrecord\n",
    "    \n",
    "    # Convert config to pipeline proto and save to file\n",
    "    pipeline_proto = config_util.create_pipeline_proto_from_configs(configs)\n",
    "    config_util.save_pipeline_config(pipeline_config=pipeline_proto, directory=f'mallit/ssd_mobilenet_v2_320x320_coco17_tpu-8/')\n",
    "\n",
    "config_file(configs)"
   ]
  },
  {
   "cell_type": "code",
   "execution_count": null,
   "id": "12faedf9",
   "metadata": {},
   "outputs": [],
   "source": []
  }
 ],
 "metadata": {
  "kernelspec": {
   "display_name": "Python 3",
   "language": "python",
   "name": "python3"
  },
  "language_info": {
   "codemirror_mode": {
    "name": "ipython",
    "version": 3
   },
   "file_extension": ".py",
   "mimetype": "text/x-python",
   "name": "python",
   "nbconvert_exporter": "python",
   "pygments_lexer": "ipython3",
   "version": "3.8.5"
  }
 },
 "nbformat": 4,
 "nbformat_minor": 5
}
