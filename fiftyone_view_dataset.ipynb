{
 "cells": [
  {
   "cell_type": "code",
   "execution_count": 3,
   "id": "43de22ee",
   "metadata": {},
   "outputs": [],
   "source": [
    "import fiftyone as fo\n",
    "import os"
   ]
  },
  {
   "cell_type": "code",
   "execution_count": 4,
   "id": "aa1d281f",
   "metadata": {},
   "outputs": [
    {
     "name": "stdout",
     "output_type": "stream",
     "text": [
      "[]\n"
     ]
    }
   ],
   "source": [
    "print(fo.list_datasets())"
   ]
  },
  {
   "cell_type": "code",
   "execution_count": 10,
   "id": "3032f6e1",
   "metadata": {},
   "outputs": [],
   "source": [
    "#original\n",
    "name=\"my-coco-detection-dataset-original\"\n",
    "dataset_dir=\"val2017/\""
   ]
  },
  {
   "cell_type": "code",
   "execution_count": 5,
   "id": "02f043fd",
   "metadata": {},
   "outputs": [],
   "source": [
    "#adversarial\n",
    "name=\"my-coco-detection-dataset\"\n",
    "dataset_dir=\"adv_data/\""
   ]
  },
  {
   "cell_type": "code",
   "execution_count": 11,
   "id": "d4e9d4df",
   "metadata": {},
   "outputs": [],
   "source": [
    "dataset_type = fo.types.COCODetectionDataset"
   ]
  },
  {
   "cell_type": "code",
   "execution_count": 12,
   "id": "27abc0dd",
   "metadata": {},
   "outputs": [
    {
     "name": "stdout",
     "output_type": "stream",
     "text": [
      " 100% |███████████████| 5000/5000 [54.2s elapsed, 0s remaining, 100.6 samples/s]      \n"
     ]
    }
   ],
   "source": [
    "dataset = fo.Dataset.from_dir(dataset_dir, dataset_type, name=name)"
   ]
  },
  {
   "cell_type": "code",
   "execution_count": 14,
   "id": "23f792f6",
   "metadata": {},
   "outputs": [
    {
     "name": "stdout",
     "output_type": "stream",
     "text": [
      "Dataset:     my-coco-detection-dataset-original\n",
      "Media type:  image\n",
      "Num samples: 5000\n",
      "Tags:        []\n",
      "Sample fields:\n",
      "    id:           fiftyone.core.fields.ObjectIdField\n",
      "    filepath:     fiftyone.core.fields.StringField\n",
      "    tags:         fiftyone.core.fields.ListField(fiftyone.core.fields.StringField)\n",
      "    metadata:     fiftyone.core.fields.EmbeddedDocumentField(fiftyone.core.metadata.Metadata)\n",
      "    ground_truth: fiftyone.core.fields.EmbeddedDocumentField(fiftyone.core.labels.Detections)\n",
      "View stages:\n",
      "    ---\n"
     ]
    }
   ],
   "source": [
    "print(dataset.view())"
   ]
  },
  {
   "cell_type": "code",
   "execution_count": 15,
   "id": "5e89f88a",
   "metadata": {},
   "outputs": [
    {
     "data": {
      "text/html": [
       "\n",
       "        <iframe\n",
       "            width=\"100%\"\n",
       "            height=\"800\"\n",
       "            src=\"http://localhost:5151/?notebook=true&handleId=3aca8b29-1374-4942-ab65-b4153e2b3c52\"\n",
       "            frameborder=\"0\"\n",
       "            allowfullscreen\n",
       "        ></iframe>\n",
       "        "
      ],
      "text/plain": [
       "<IPython.lib.display.IFrame at 0x203d7a56370>"
      ]
     },
     "metadata": {},
     "output_type": "display_data"
    },
    {
     "data": {
      "text/html": [
       "\n",
       "        <iframe\n",
       "            width=\"100%\"\n",
       "            height=\"800\"\n",
       "            src=\"http://localhost:5151/?notebook=true&handleId=3aca8b29-1374-4942-ab65-b4153e2b3c52\"\n",
       "            frameborder=\"0\"\n",
       "            allowfullscreen\n",
       "        ></iframe>\n",
       "        "
      ],
      "text/plain": [
       "<IPython.lib.display.IFrame at 0x203d7a56370>"
      ]
     },
     "metadata": {},
     "output_type": "display_data"
    }
   ],
   "source": [
    "session = fo.launch_app()"
   ]
  },
  {
   "cell_type": "code",
   "execution_count": null,
   "id": "1bd5ac0c",
   "metadata": {},
   "outputs": [],
   "source": []
  }
 ],
 "metadata": {
  "kernelspec": {
   "display_name": "Python 3",
   "language": "python",
   "name": "python3"
  },
  "language_info": {
   "codemirror_mode": {
    "name": "ipython",
    "version": 3
   },
   "file_extension": ".py",
   "mimetype": "text/x-python",
   "name": "python",
   "nbconvert_exporter": "python",
   "pygments_lexer": "ipython3",
   "version": "3.8.5"
  }
 },
 "nbformat": 4,
 "nbformat_minor": 5
}
